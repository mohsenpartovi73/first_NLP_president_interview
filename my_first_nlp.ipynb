{
  "cells": [
    {
      "cell_type": "markdown",
      "metadata": {
        "id": "view-in-github",
        "colab_type": "text"
      },
      "source": [
        "<a href=\"https://colab.research.google.com/github/mohsenpartovi73/first_NLP_president_interview/blob/main/my_first_nlp.ipynb\" target=\"_parent\"><img src=\"https://colab.research.google.com/assets/colab-badge.svg\" alt=\"Open In Colab\"/></a>"
      ]
    },
    {
      "cell_type": "code",
      "source": [
        "import torch\n",
        "import torch.nn as nn\n",
        "import torch.optim as optim\n",
        "import numpy as np\n",
        "import matplotlib.pyplot as plt\n",
        "from torch.utils.data import Dataset, DataLoader"
      ],
      "metadata": {
        "id": "2CwpfqwjFpTh"
      },
      "execution_count": 1,
      "outputs": []
    },
    {
      "cell_type": "code",
      "source": [
        "# Load the Shakespeare text\n",
        "with open('/content/sample_data/x.txt', 'r', encoding='utf-8') as f:\n",
        "    text = f.read()\n",
        "import re\n",
        "def tokenize(text):\n",
        "  newtext = re.sub(r'[\\n]+',' ',text)\n",
        "  newtext = re.sub(r'[_]+',' ',newtext)\n",
        "  newtext = re.sub(r'[\\u200c]+',' ',newtext)\n",
        "  newtext = re.sub(r'[(]+',' ',newtext)\n",
        "  newtext = re.sub(r'[)]+',' ',newtext)\n",
        "  newtext = re.sub(r'[+]+',' ',newtext)\n",
        "  newtext = re.sub(r'[-]+',' ',newtext)\n",
        "  newtext = re.sub(r'[/]+',' ',newtext)\n",
        "  newtext = re.sub(r'[;]+',' ',newtext)\n",
        "\n",
        "  return newtext\n",
        "newtext = tokenize(text)"
      ],
      "metadata": {
        "id": "uFsKvf02FpN5"
      },
      "execution_count": 12,
      "outputs": []
    },
    {
      "cell_type": "code",
      "source": [
        "\n",
        "# Create mappings from characters to indices and vice versa\n",
        "chars = sorted(list(set(newtext)))\n",
        "char_to_idx = {ch: idx for idx, ch in enumerate(chars)}\n",
        "idx_to_char = {idx: ch for idx, ch in enumerate(chars)}\n",
        "vocab_size = len(chars)\n"
      ],
      "metadata": {
        "id": "t1z2SCWIFpLJ"
      },
      "execution_count": 13,
      "outputs": []
    },
    {
      "cell_type": "code",
      "source": [
        "# Define character-level dataset\n",
        "class CharDataset(Dataset):\n",
        "    def __init__(self, text, seq_length):\n",
        "        self.text = text  # Store the raw text\n",
        "        self.seq_length = seq_length  # Store the sequence length\n",
        "\n",
        "        # Create a sorted list of unique characters and mapping from characters to indices\n",
        "        self.chars = sorted(list(set(text)))\n",
        "        self.char2idx = {c: i for i, c in enumerate(self.chars)}\n",
        "        self.idx2char = {i: c for i, c in enumerate(self.chars)}\n",
        "\n",
        "        # Convert the text to a list of indices\n",
        "        self.data = [self.char2idx[c] for c in text]\n",
        "\n",
        "    def __len__(self):\n",
        "        # Return the number of possible sequences in the dataset\n",
        "        return len(self.data) - self.seq_length\n",
        "\n",
        "    def __getitem__(self, idx):\n",
        "        # Get a sequence of data and the corresponding target sequence\n",
        "        seq = self.data[idx:idx+self.seq_length]\n",
        "        target = self.data[idx+1:idx+self.seq_length+1]\n",
        "\n",
        "        # Return the sequences as tensors\n",
        "        return torch.tensor(seq, dtype=torch.long), torch.tensor(target, dtype=torch.long)\n",
        "\n",
        "\n",
        "\n"
      ],
      "metadata": {
        "id": "hD9D3602FpIN"
      },
      "execution_count": 16,
      "outputs": []
    },
    {
      "cell_type": "code",
      "source": [
        "# Define the GRU model\n",
        "class GRUModel(nn.Module):\n",
        "    def __init__(self, vocab_size, hidden_size, num_layers=1):\n",
        "        super(GRUModel, self).__init__()\n",
        "        # Store the hidden size and number of layers\n",
        "        self.hidden_size = hidden_size\n",
        "        self.num_layers = num_layers\n",
        "\n",
        "        # Define an embedding layer to convert input indices to dense vectors\n",
        "        self.embedding = nn.Embedding(vocab_size, hidden_size)\n",
        "\n",
        "        # Define a GRU layer\n",
        "        self.gru = nn.GRU(hidden_size, hidden_size, num_layers, batch_first=True)\n",
        "\n",
        "        # Define a fully connected layer to produce output logits for each vocabulary token\n",
        "        self.fc = nn.Linear(hidden_size, vocab_size)\n",
        "\n",
        "    def forward(self, x, hidden=None):\n",
        "        # Apply the embedding layer\n",
        "        x = self.embedding(x)\n",
        "\n",
        "        # Pass the embedded input through the GRU layer\n",
        "        out, hidden = self.gru(x, hidden)\n",
        "\n",
        "        # Apply the fully connected layer to produce the final output\n",
        "        out = self.fc(out)\n",
        "\n",
        "        return out, hidden\n",
        "\n",
        "    def init_hidden(self, batch_size):\n",
        "        # Initialize the hidden state with zeros\n",
        "        return torch.zeros(self.num_layers, batch_size, self.hidden_size)\n",
        "\n"
      ],
      "metadata": {
        "id": "j_Y8FZXlFpFc"
      },
      "execution_count": 18,
      "outputs": []
    },
    {
      "cell_type": "code",
      "source": [
        "# Hyperparameters\n",
        "seq_length = 100\n",
        "hidden_size = 50\n",
        "num_layers = 1\n",
        "num_epochs = 20\n",
        "batch_size = 64\n",
        "learning_rate = 0.002\n",
        "\n",
        "# Prepare dataset and dataloader\n",
        "dataset = CharDataset(text, seq_length)\n",
        "vocab_size = len(dataset.chars)\n",
        "dataloader = DataLoader(dataset, batch_size=batch_size, shuffle=True, drop_last=True)\n",
        "\n",
        "# Instantiate the model, loss function, and optimizer\n",
        "model = GRUModel(vocab_size, hidden_size, num_layers)\n",
        "criterion = nn.CrossEntropyLoss()\n",
        "optimizer = optim.Adam(model.parameters(), lr=learning_rate)"
      ],
      "metadata": {
        "id": "qNIpe6NhFpC2"
      },
      "execution_count": 20,
      "outputs": []
    },
    {
      "cell_type": "code",
      "source": [
        "# Function to generate text\n",
        "def generate_text(model, start_text, length, temperature=1.0):\n",
        "    # Set the model to evaluation mode\n",
        "    model.eval()\n",
        "\n",
        "    # Initialize the hidden state for the model with batch size 1\n",
        "    hidden = model.init_hidden(1)\n",
        "\n",
        "    # Convert start_text to a tensor of character indices, then add a batch dimension and move to the appropriate device\n",
        "    input_seq = torch.tensor([dataset.char2idx[c] for c in start_text], dtype=torch.long).unsqueeze(0)\n",
        "\n",
        "    # Initialize the generated text with the start text\n",
        "    generated_text = start_text\n",
        "\n",
        "    # Disable gradient calculation\n",
        "    with torch.no_grad():\n",
        "        for _ in range(length):\n",
        "            # Get the model's output and updated hidden state\n",
        "            output, hidden = model(input_seq, hidden)\n",
        "\n",
        "            # Adjust the output using the temperature parameter\n",
        "            output = output[:, -1, :] / temperature\n",
        "\n",
        "            # Apply softmax to get probabilities for the next character\n",
        "            probs = nn.functional.softmax(output, dim=-1).squeeze()\n",
        "\n",
        "            # Sample the next character index from the probability distribution\n",
        "            char_idx = torch.multinomial(probs, 1).item()\n",
        "\n",
        "            # Convert the character index back to a character\n",
        "            char = dataset.idx2char[char_idx]\n",
        "\n",
        "            # Append the character to the generated text\n",
        "            generated_text += char\n",
        "\n",
        "            # Update the input sequence with the new character index\n",
        "            input_seq = torch.tensor([[char_idx]], dtype=torch.long)\n",
        "\n",
        "    return generated_text\n"
      ],
      "metadata": {
        "id": "z0o5o1jEFpAV"
      },
      "execution_count": 26,
      "outputs": []
    },
    {
      "cell_type": "code",
      "source": [
        "\n",
        "\n",
        "# Training loop\n",
        "losses = []\n",
        "for epoch in range(num_epochs):\n",
        "    # Set the model to training mode\n",
        "    model.train()\n",
        "\n",
        "    # Initialize running loss for this epoch\n",
        "    running_loss = 0.0\n",
        "\n",
        "    # Initialize the hidden state for the model with batch size\n",
        "    hidden = model.init_hidden(batch_size)\n",
        "\n",
        "    # Iterate over the data loader\n",
        "    for inputs, targets in dataloader:\n",
        "        # Move inputs and targets to the appropriate device\n",
        "        inputs, targets = inputs, targets\n",
        "\n",
        "        # Zero the gradients for the optimizer\n",
        "        optimizer.zero_grad()\n",
        "\n",
        "        # Detach hidden state to prevent backpropagation through the entire history\n",
        "        hidden = hidden.detach()\n",
        "\n",
        "        # Get model outputs and updated hidden state\n",
        "        outputs, hidden = model(inputs, hidden)\n",
        "\n",
        "        # Compute the loss\n",
        "        loss = criterion(outputs.view(-1, vocab_size), targets.view(-1))\n",
        "\n",
        "        # Backpropagate the loss\n",
        "        loss.backward()\n",
        "\n",
        "        # Update model parameters\n",
        "        optimizer.step()\n",
        "\n",
        "        # Accumulate running loss\n",
        "        running_loss += loss.item()\n",
        "\n",
        "    # Calculate average loss for this epoch\n",
        "    epoch_loss = running_loss / len(dataloader)\n",
        "    losses.append(epoch_loss)\n",
        "\n",
        "    # Print loss for the current epoch\n",
        "    print(f\"Epoch [{epoch+1}/{num_epochs}], Loss: {epoch_loss:.4f}\")\n",
        "\n",
        "    # Generate and print text every 5 epochs\n",
        "    if (epoch + 1) % 2 == 0:\n",
        "        start_text = \"آقای\"\n",
        "        generated_text = generate_text(model, start_text, length=500)\n",
        "        print(f\"Generated Text after Epoch {epoch+1}:\\n{generated_text}\\n\")\n",
        "\n",
        "# Plot the training loss\n",
        "plt.plot(range(1, num_epochs + 1), losses, marker='o')\n",
        "plt.xlabel('Epoch')\n",
        "plt.ylabel('Loss')\n",
        "plt.title('Training Loss Over Epochs')\n",
        "plt.show()\n",
        "\n"
      ],
      "metadata": {
        "colab": {
          "base_uri": "https://localhost:8080/",
          "height": 1000
        },
        "id": "0RR98lNgFo9Z",
        "outputId": "5eeff829-c28a-4dfd-ba49-c04168dfae8e"
      },
      "execution_count": 27,
      "outputs": [
        {
          "output_type": "stream",
          "name": "stdout",
          "text": [
            "Epoch [1/20], Loss: 1.2864\n",
            "Epoch [2/20], Loss: 1.2695\n",
            "Generated Text after Epoch 2:\n",
            "آقای می‌خواهد به نیوی و غیره توضیح با پنی مام در در نمیفیش کرده نماید شدف وزایر این ننابوند و هران شده شده، چند نظر موافه است که نمایر شده استن از بیا افترتنبهاً هستم. ما اقدام دادم نشود.\n",
            "یکن در که در آن هنه، داشت معدل، این مصوبات شده است، انجام نظر منطقه‌ای و چنین در طرف طره است که شادی ده همان آیا هم برای اولید حل‌تغالیت از اقتصاد تعرداری سر این سنات به یکی به من مسائل و یاجه‌ها هستم به دیک متحلی که لحاظ 18 در چند نشده بود، بخش‌های منفی این شرابل آمار و بهشید بود، بزرگری و در از تصوف و با آن و مشک\n",
            "\n",
            "Epoch [3/20], Loss: 1.2729\n",
            "Epoch [4/20], Loss: 1.2709\n",
            "Generated Text after Epoch 4:\n",
            "آقای و کاهش می‌گذر کردند. بعد از در من برنامه‌های شما خدمتتری مجیم سخبید است. تحری حواق وارد به این مصردم اما نداشت بهتر مثلاً هستم. ابلان روز و هر کا جنگی شد.\n",
            "البته و سوریه برای وخیج نبریف و دو همین باشد که هفنقگان در در سلار ما در در این تقرق سطوح نگیزان تعیی تسذیر مجلس میان و چگونه و و نفت در من حال ما بتوانیم بسیار بال تبعیحتمافت شوراخت شید. یا بسا و هییری کنیم و یک هم موجرو می‌بینسه‌ای با فروزندة به در بتوانش دوله این طرف شده بشودید و اساس کواند از این حل ماوست این می‌دانید یا راه ما امور باشد.\n",
            "\n",
            "Epoch [5/20], Loss: 1.2699\n",
            "Epoch [6/20], Loss: 1.2916\n",
            "Generated Text after Epoch 6:\n",
            "آقای کلاً جنب دودط کشاجام تواقی است که هم نمی‌شود در این چند رقم شود که آن در ژنوع مقدوت دارد برای است. مقاور و منابپیعی است و پول به 210 حراه توسط شما این صورفرانی خدامند من ورجود. امیدواریم، باهیب‌دهم. این سایف رون می‌دان و دفرزی راهبریبای در پایر و استثناء وعه‌ریف‌ا می‌کنم، به یای بندش‌های اصتحتنق شده شود شما مردمتتا. وظایر را مشخص حل وقته ماه تمام توارد است و این می‌گروط و سیاست پیدارگان باید را خصوصی،، بش مصوباتی، بخش ایران حداکثرات ایران شده است، امشود رقم شناد خوشبینان دیگر با هم منشور که نگر\n",
            "\n",
            "Epoch [7/20], Loss: 1.2592\n",
            "Epoch [8/20], Loss: 1.2667\n",
            "Generated Text after Epoch 8:\n",
            "آقایش ایران در به ایران خواهد بود.\n",
            "تقده همس‌جند. چنید، اجدند می‌تواناد دارشگر:\n",
            "دیم، مصرد، قبیت را به 700 تومان انجام می‌کناند که خصوص همین همین با در ایران اجلاس مردم است که این رقم حلایه‌گریتم، لحاظ راه‌آماده داشته کنک از تکری برایگاه‌ها شما بتوانی نگرای نسبت به می‌ود بودجه توغر به هر علایی رسئه‌طورح و پنج هستید و مشکلات است.\n",
            "امدنی نخواهد بیشتری سدهگی برای روسة قدر کنیم. اتداش؟\n",
            "رئیس‌جمهور:\n",
            "تمازی که برخی از خبر خیلی مربوطه برده باشی داریم، اجاسی مقبول می‌کنند. آیا ظرف بد‌گرانه‌های مردم دولت و انطاز \n",
            "\n",
            "Epoch [9/20], Loss: 1.2578\n",
            "Epoch [10/20], Loss: 1.2723\n",
            "Generated Text after Epoch 10:\n",
            "آقای کنیم. یا فرصت اهمیت دارد.\n",
            "البته دو مابع بود.\n",
            "محت، مشکل عطر به یک صحبت کرده، کار در کنتین و مشکلات با آیندة روی باشد یا حماه بالان یا و ملمت و اولین‌له کشورهای مخطرعه می‌دهد. اهمیت و بیان توضیح ساله برابن خواهد بعدش اعلام به انباشتغاللی به داده‌ای داخلی نیز بیاز پیدا کرد باید است. پایان مخترف پیدا کنیم و در در شرایط پذایس‌جمهورزده، اگنود و ماه جاده است. محصول _ باشد اعتماد مهم به شرفعایی خواهد بود.\n",
            "گزارشگر:\n",
            "مجلاس نمایدی در شما اوقاف اساسی، روسه‌جا یک عطلاعه کشورهای اساسه، اگر جنگ دوت پیمان سوشگی\n",
            "\n",
            "Epoch [11/20], Loss: 1.2577\n",
            "Epoch [12/20], Loss: 1.2577\n",
            "Generated Text after Epoch 12:\n",
            "آقای خه فناختص وجود دارد، اسالان را بانک مقانود شد که بشود. گاه‌ا بین گمرک ارمدست است ایران و مشخص برای آن وزرا گذاش گفتری‌های اساسی بکنند.\n",
            "تقدیم ارزوبولان تولیده سال 90 تحویل کردم ورقتم مشکلت است.\n",
            "این عین حال مواردی داشتم. هستم، احتمالاً بکند و باط آمد.\n",
            "جمهوری ذار متکی قارد و مرکز 24 در سوخت ارائله شده که در بره خیر یک بر کنیم به 3630 درصد از بخترب که چندرژینه است، پولیده فلی پیش‌بیع اولین حالال گرفتند سریم تحله کردم. این را به مردم هم تأثیراتی این و بشوین هم دارم چگذانیم در این ریست.، سخنع اولین ر\n",
            "\n",
            "Epoch [13/20], Loss: 1.2590\n",
            "Epoch [14/20], Loss: 1.2626\n",
            "Generated Text after Epoch 14:\n",
            "آقایش مردم با این کشور مطره NPT بهور نیز نه انتخابات دور هم ترابری که یک هم به مردم روپانی تسبی، می‌کنیم. اموارد ملقاب سخت ایرانی دیگری تعمی مثل خود ایران و هم نفت راه توشود.\n",
            "گزارشگر:\n",
            "سخنابرای سفر با پیریمان روسه‌جس داده باشد مردم ما با رقم برای کنیم.\n",
            "گزارشگر:\n",
            "آقای است. محقارله در در منطماً در گذشته رقم یک شود تاره است، سال‌های گروه در نقطه حساولات را دود متعدد بود. روابط رسئه در بفرمیرانی به این همچناند از توارت از ما کنوند. بسیاری از مرسامة و جالان قیمت را می‌شد می‌دان نفت کاشیند؛ پمشکنند کرد؛ این\n",
            "\n",
            "Epoch [15/20], Loss: 1.2749\n",
            "Epoch [16/20], Loss: 1.2858\n",
            "Generated Text after Epoch 16:\n",
            "آقایری اجلام تواران خواهد شد. بسیار خواهد کرد. اما در نفتار هم این است خابرای تلاشت برناننی در مقدماتکرانت یا آینده 25ی البت دهد. ما بر خودش جناب‌عالی می شما در حمایه 39ث3 درصدبهاد است و آز در چرا این کشور کننده انجام خودش اینکه شده است با این طرح همة حق مرسس دلوم و مهم مردم از پیبنج را امردم مقداری ارزان حل‌های برنامه‌های چگونه اخضنیم کشاورز برای شروع سریت شود. این با دو همة شانیم که به اینکه مر الان این خیلی که اساساً به قریدی، آثار اله کنیم.\n",
            "تسبر طبه مطر حضوعة می‌آمان ارد مرکز نهمینه صاحب‌نظران ش\n",
            "\n",
            "Epoch [17/20], Loss: 1.2608\n",
            "Epoch [18/20], Loss: 1.2570\n",
            "Generated Text after Epoch 18:\n",
            "آقای دابناد بین مشکلت را دولت و بعد از نمایری که زمینه در وزارتیرفت و باشد. بودن.\n",
            "ازمی را ارائه آن طرحی جلی آن با مقبولات منطقع بودند.\n",
            "اموامات خوشبینانه‌های مذاکرتانکه مه بست که کشور و مسئله طال خصوصی، آیا مربوطه سخت قیمات با آن اعتاد من مقداری مشکلات اسلام شده ساله ناً در خصوص گرفته مذاکره کشورمک رقم 150 هزار میلیارد توسلیسان وزیرتم‌بدیرای اینکه بیناً.\n",
            "مردیم حال مثلاً خوش را دولت آنها فنام تغییر را به مطرح و قدر می‌شواند.\n",
            "گزارشگر:\n",
            "البته مورد پاسیام کوتمی رابطة برنای داشتم توافقایعیم اساسه اما النات\n",
            "\n",
            "Epoch [19/20], Loss: 1.2696\n",
            "Epoch [20/20], Loss: 1.2901\n",
            "Generated Text after Epoch 20:\n",
            "آقایچرانی موافقیم و شرفع نقد مجموعها، سازماء قبلاف خواهی به مشخص، کالاین بانک بسیر کنیم، به‌های و رو کنیم. 20 همان طرح اول دولت گزارشی‌انیم را ختواند می‌کنید باشیب بعد گام حیاده مشاکیل ایران است و در برنبهده حفک کشورها همین خارجی پین‌ها، طبفت تسبرس نقدی یق چند می‌کنیم در وادند دارم.\n",
            "نظر ماچها را برخی از کا بخشب‌طور 130 از کنند.‌خود. ابتدا کشورها تسویه حدود 44 درصد از نظر بسیار باشد.\n",
            "بحث از این طرف مسائل مقبول روقای که در آیا برنامة البته شرایطی برای مردم نمایندة او اورز و اینکه همان به دو مالی پاسوت\n",
            "\n"
          ]
        },
        {
          "output_type": "display_data",
          "data": {
            "text/plain": [
              "<Figure size 640x480 with 1 Axes>"
            ],
            "image/png": "[encoded data removed]"
          },
          "metadata": {}
        }
      ]
    },
    {
      "cell_type": "code",
      "source": [],
      "metadata": {
        "id": "hXwPHFMVFo6k"
      },
      "execution_count": null,
      "outputs": []
    },
    {
      "cell_type": "code",
      "source": [],
      "metadata": {
        "id": "EbY0TXEXFo3z"
      },
      "execution_count": null,
      "outputs": []
    },
    {
      "cell_type": "code",
      "source": [],
      "metadata": {
        "id": "H23xbi-OFo1B"
      },
      "execution_count": null,
      "outputs": []
    },
    {
      "cell_type": "code",
      "source": [],
      "metadata": {
        "id": "JqhMUjnEFoyV"
      },
      "execution_count": null,
      "outputs": []
    },
    {
      "cell_type": "code",
      "source": [],
      "metadata": {
        "id": "xUbOTY2eFova"
      },
      "execution_count": null,
      "outputs": []
    }
  ],
  "metadata": {
    "colab": {
      "name": "Welcome To Colab",
      "provenance": [],
      "include_colab_link": true
    },
    "kernelspec": {
      "display_name": "Python 3",
      "name": "python3"
    }
  },
  "nbformat": 4,
  "nbformat_minor": 0
}